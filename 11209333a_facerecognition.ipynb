{
  "cells": [
    {
      "cell_type": "markdown",
      "metadata": {
        "id": "view-in-github",
        "colab_type": "text"
      },
      "source": [
        "<a href=\"https://colab.research.google.com/github/siomaybatagor19/Face_rec.ipynb/blob/main/11209333a_facerecognition.ipynb\" target=\"_parent\"><img src=\"https://colab.research.google.com/assets/colab-badge.svg\" alt=\"Open In Colab\"/></a>"
      ]
    },
    {
      "cell_type": "markdown",
      "source": [
        "# **Import**"
      ],
      "metadata": {
        "id": "vjCbVjeAnsz1"
      }
    },
    {
      "cell_type": "code",
      "execution_count": null,
      "metadata": {
        "id": "babT1_syZcsH"
      },
      "outputs": [],
      "source": [
        "import time\n",
        "import torch\n",
        "import torch.nn as nn\n",
        "import torch.optim as optim\n",
        "from torchvision import datasets, models, transforms\n",
        "from torch.optim import lr_scheduler\n",
        "from torchvision.datasets import ImageFolder\n",
        "from torch.utils.data import DataLoader\n",
        "from torchsummary import summary\n",
        "from PIL import Image\n",
        "import torch.nn.functional as F"
      ]
    },
    {
      "cell_type": "markdown",
      "source": [
        "# **Content Initialize**"
      ],
      "metadata": {
        "id": "o7ltnKRan-jb"
      }
    },
    {
      "cell_type": "code",
      "execution_count": null,
      "metadata": {
        "colab": {
          "base_uri": "https://localhost:8080/"
        },
        "id": "yGC5USe6Ze9B",
        "outputId": "77eb6350-635a-4849-8c74-833c02bc35b2"
      },
      "outputs": [
        {
          "name": "stdout",
          "output_type": "stream",
          "text": [
            "Drive already mounted at /content/drive; to attempt to forcibly remount, call drive.mount(\"/content/drive\", force_remount=True).\n"
          ]
        }
      ],
      "source": [
        "from google.colab import drive\n",
        "drive.mount('/content/drive')"
      ]
    },
    {
      "cell_type": "code",
      "execution_count": null,
      "metadata": {
        "colab": {
          "base_uri": "https://localhost:8080/"
        },
        "id": "cR5BcsoTaPhc",
        "outputId": "b0115db3-474e-4e00-cc06-8ca36e2f51a9"
      },
      "outputs": [
        {
          "name": "stdout",
          "output_type": "stream",
          "text": [
            "unzip:  cannot find or open /content/drive/MyDrive/imgs.zip, /content/drive/MyDrive/imgs.zip.zip or /content/drive/MyDrive/imgs.zip.ZIP.\n"
          ]
        }
      ],
      "source": [
        "!unzip -q /content/drive/MyDrive/imgs.zip"
      ]
    },
    {
      "cell_type": "markdown",
      "source": [
        "# **Using Cuda**"
      ],
      "metadata": {
        "id": "gMBJy_6RojYf"
      }
    },
    {
      "cell_type": "code",
      "execution_count": null,
      "metadata": {
        "id": "GNtBNLvJZeG7"
      },
      "outputs": [],
      "source": [
        "device = torch.device('cuda' if torch.cuda.is_available() else 'cpu')\n",
        "\n",
        "# Set the image paths\n",
        "trainimgpath = '/content/drive/MyDrive/imgs/Train'\n",
        "testimgpath = '/content/drive/MyDrive/imgs/Test'\n",
        "\n",
        "# Define the transformations\n",
        "transform_train = transforms.Compose([\n",
        "    transforms.Resize((64, 64)),\n",
        "    transforms.ToTensor(),\n",
        "])\n",
        "\n",
        "transform_test = transforms.Compose([\n",
        "    transforms.Resize((64, 64)),\n",
        "    transforms.ToTensor(),\n",
        "])\n",
        "\n",
        "# Create the datasets\n",
        "training_set = ImageFolder(root=trainimgpath, transform=transform_train)\n",
        "test_set = ImageFolder(root=testimgpath, transform=transform_test)\n",
        "\n",
        "# Create the data loaders\n",
        "train_loader = DataLoader(training_set, batch_size=4, shuffle=True, num_workers=2)\n",
        "test_loader = DataLoader(test_set, batch_size=4, shuffle=False, num_workers=2)"
      ]
    },
    {
      "cell_type": "markdown",
      "source": [
        "# **Get the class indicies**"
      ],
      "metadata": {
        "id": "07RvX0vHozs2"
      }
    },
    {
      "cell_type": "code",
      "execution_count": null,
      "metadata": {
        "id": "U8KRGL-3dAN7"
      },
      "outputs": [],
      "source": [
        "# Get the class indices\n",
        "class_indices = training_set.class_to_idx\n",
        "face_id = {v: k for k, v in class_indices.items()}\n",
        "num_classes = len(face_id)"
      ]
    },
    {
      "cell_type": "code",
      "execution_count": null,
      "metadata": {
        "id": "L2oMj5NCdIUW"
      },
      "outputs": [],
      "source": [
        "import pickle\n",
        "# Save the class indices\n",
        "with open('face_id.pkl', 'wb') as fs:\n",
        "    pickle.dump(face_id, fs)"
      ]
    },
    {
      "cell_type": "markdown",
      "source": [
        "# **Define the model**"
      ],
      "metadata": {
        "id": "TCDrrzzSpCZS"
      }
    },
    {
      "cell_type": "code",
      "execution_count": null,
      "metadata": {
        "id": "6vXtpuM8cdef"
      },
      "outputs": [],
      "source": [
        "# Define the model\n",
        "class ConvNet(nn.Module):\n",
        "    def __init__(self):\n",
        "        super(ConvNet, self).__init__()\n",
        "        self.conv1 = nn.Conv2d(3, 5, 3)\n",
        "        self.conv2 = nn.Conv2d(5, 60, 3)\n",
        "        self.fc1 = nn.Linear(60*14*14, 160)\n",
        "        self.fc2 = nn.Linear(160, 17)\n",
        "        self.pool= nn.MaxPool2d(2,2)\n",
        "\n",
        "    def forward(self, x):\n",
        "        x = torch.relu(self.pool(self.conv1(x)))\n",
        "        x = torch.relu(self.pool(self.conv2(x)))\n",
        "        #print(x.shape)\n",
        "        x = x.view(-1, 60*14*14)\n",
        "        x = torch.relu(self.fc1(x))\n",
        "        x = self.fc2(x)\n",
        "\n",
        "        return x\n",
        "# Create the model and move it to GPU if available\n",
        "model = ConvNet().to(device)\n"
      ]
    },
    {
      "cell_type": "markdown",
      "source": [
        "# **Summary model**"
      ],
      "metadata": {
        "id": "Wdy0Wtx_pOqL"
      }
    },
    {
      "cell_type": "code",
      "execution_count": null,
      "metadata": {
        "colab": {
          "base_uri": "https://localhost:8080/"
        },
        "id": "Hv8GYo3Fsz7_",
        "outputId": "b3c2c09d-1ac1-44ca-df75-7a96c3b0dc37"
      },
      "outputs": [
        {
          "name": "stdout",
          "output_type": "stream",
          "text": [
            "----------------------------------------------------------------\n",
            "        Layer (type)               Output Shape         Param #\n",
            "================================================================\n",
            "            Conv2d-1            [-1, 5, 62, 62]             140\n",
            "         MaxPool2d-2            [-1, 5, 31, 31]               0\n",
            "            Conv2d-3           [-1, 60, 29, 29]           2,760\n",
            "         MaxPool2d-4           [-1, 60, 14, 14]               0\n",
            "            Linear-5                  [-1, 160]       1,881,760\n",
            "            Linear-6                   [-1, 17]           2,737\n",
            "================================================================\n",
            "Total params: 1,887,397\n",
            "Trainable params: 1,887,397\n",
            "Non-trainable params: 0\n",
            "----------------------------------------------------------------\n",
            "Input size (MB): 0.05\n",
            "Forward/backward pass size (MB): 0.66\n",
            "Params size (MB): 7.20\n",
            "Estimated Total Size (MB): 7.91\n",
            "----------------------------------------------------------------\n"
          ]
        }
      ],
      "source": [
        " summary(model, (3, 64, 64))"
      ]
    },
    {
      "cell_type": "code",
      "execution_count": null,
      "metadata": {
        "colab": {
          "base_uri": "https://localhost:8080/"
        },
        "id": "lBU-aLxUNXcw",
        "outputId": "bdb4056e-9062-4816-e85f-e0b3c961affe"
      },
      "outputs": [
        {
          "name": "stdout",
          "output_type": "stream",
          "text": [
            "Epoch: 1, loss: 2.825284744753982\n",
            "Epoch: 2, loss: 2.3752954078443125\n",
            "Epoch: 3, loss: 1.5985838310285048\n",
            "Epoch: 4, loss: 0.6556734801693396\n",
            "Epoch: 5, loss: 0.2277931457836971\n",
            "Epoch: 6, loss: 0.07400897883273887\n",
            "Epoch: 7, loss: 0.029219794577467397\n",
            "Epoch: 8, loss: 0.018904726068616252\n",
            "Epoch: 9, loss: 0.020612009276440156\n",
            "Epoch: 10, loss: 0.008008810134153024\n",
            "Epoch: 11, loss: 0.005676025087737027\n",
            "Epoch: 12, loss: 0.004226103576387906\n",
            "Epoch: 13, loss: 0.004040258605417683\n",
            "Epoch: 14, loss: 0.0032795627198400766\n",
            "Epoch: 15, loss: 0.0024139010544758726\n",
            "Epoch: 16, loss: 0.0020130363537287903\n",
            "Epoch: 17, loss: 0.0016937879664703469\n",
            "Epoch: 18, loss: 0.0015611083843837012\n",
            "Epoch: 19, loss: 0.0012999183842718292\n",
            "Epoch: 20, loss: 0.0011588060398494374\n",
            "Epoch: 21, loss: 0.0011185330128655276\n",
            "Epoch: 22, loss: 0.0009420085844987735\n",
            "Epoch: 23, loss: 0.0008413200415485666\n",
            "Epoch: 24, loss: 0.0007479479829381683\n",
            "Epoch: 25, loss: 0.0006739548379934577\n",
            "Epoch: 26, loss: 0.000624866506038388\n",
            "Epoch: 27, loss: 0.0005686784564748891\n",
            "Epoch: 28, loss: 0.0005148805374836119\n",
            "Epoch: 29, loss: 0.00047119200878638145\n",
            "Epoch: 30, loss: 0.0004431688347529306\n",
            "Finished training. Time spent:  27.632111072540283\n"
          ]
        }
      ],
      "source": [
        "# Define the loss function and the optimizer\n",
        "criterion = nn.CrossEntropyLoss()\n",
        "optimizer = optim.Adam(model.parameters())\n",
        "\n",
        "# Train the model\n",
        "start_time = time.time()\n",
        "model.train()\n",
        "\n",
        "for epoch in range(30):\n",
        "    epoch_loss = 0.0\n",
        "    total_samples = 0\n",
        "\n",
        "    for i, data in enumerate(train_loader, 0):\n",
        "        inputs, labels = data[0].to(device), data[1].to(device)\n",
        "        optimizer.zero_grad()\n",
        "        outputs = model(inputs)\n",
        "        loss = criterion(outputs, labels)\n",
        "        loss.backward()\n",
        "        optimizer.step()\n",
        "\n",
        "        epoch_loss += loss.item() * inputs.size(0)\n",
        "        total_samples += inputs.size(0)\n",
        "\n",
        "    average_epoch_loss = epoch_loss / total_samples\n",
        "    print(f'Epoch: {epoch + 1}, loss: {average_epoch_loss}')\n",
        "\n",
        "print('Finished training. Time spent: ', time.time() - start_time)\n"
      ]
    },
    {
      "cell_type": "markdown",
      "metadata": {
        "id": "3RJ-K30xcsId"
      },
      "source": [
        "# **Model Evaluation**"
      ]
    },
    {
      "cell_type": "code",
      "execution_count": null,
      "metadata": {
        "colab": {
          "base_uri": "https://localhost:8080/"
        },
        "id": "yXYeAfwObnyN",
        "outputId": "ab11211c-a722-4ad2-f359-a1ac1a8763f0"
      },
      "outputs": [
        {
          "name": "stdout",
          "output_type": "stream",
          "text": [
            "Accuracy of the model on test images: 98.80952380952381%\n"
          ]
        }
      ],
      "source": [
        "# Model Evaluation\n",
        "correct = 0\n",
        "total = 0\n",
        "with torch.no_grad():\n",
        "    model.eval()\n",
        "    for data in test_loader:\n",
        "        images, labels = data[0].to(device), data[1].to(device)\n",
        "        outputs = model(images)\n",
        "        _, predicted = torch.max(outputs.data, 1)\n",
        "        total += labels.size(0)\n",
        "        correct += (predicted == labels).sum().item()\n",
        "\n",
        "print(f'Accuracy of the model on test images: {100 * correct / total}%')\n"
      ]
    },
    {
      "cell_type": "markdown",
      "source": [
        "# **Image Predict**"
      ],
      "metadata": {
        "id": "WNdlVYCDpcns"
      }
    },
    {
      "cell_type": "code",
      "execution_count": null,
      "metadata": {
        "colab": {
          "base_uri": "https://localhost:8080/"
        },
        "id": "RkUqVWhBbq1F",
        "outputId": "910316c3-b421-4964-9a98-132bcae8ee54"
      },
      "outputs": [
        {
          "name": "stdout",
          "output_type": "stream",
          "text": [
            "Hi, I know you! Your name is ASTRID!! lop yu<3\n"
          ]
        }
      ],
      "source": [
        "# Load an image and predict\n",
        "def check(impath):\n",
        "    test_img = Image.open(impath)\n",
        "    test_img = transform_test(test_img).unsqueeze(0).to(device)\n",
        "\n",
        "    with torch.no_grad():\n",
        "        model.eval()\n",
        "        output = model(test_img)\n",
        "        _, predicted = torch.max(output.data, 1)\n",
        "        if face_id[predicted.item()] == 'face17':\n",
        "            print('Hi, I know you! Your name is ASTRID!! lop yu<3')\n",
        "        else:\n",
        "            print('The face is: ', face_id[predicted.item()])\n",
        "\n",
        "impath = '/content/drive/MyDrive/imgs/Test/face17/3.jpg'\n",
        "check(impath)"
      ]
    }
  ],
  "metadata": {
    "accelerator": "GPU",
    "colab": {
      "gpuType": "T4",
      "provenance": [],
      "include_colab_link": true
    },
    "kernelspec": {
      "display_name": "Python 3",
      "name": "python3"
    },
    "language_info": {
      "name": "python"
    }
  },
  "nbformat": 4,
  "nbformat_minor": 0
}